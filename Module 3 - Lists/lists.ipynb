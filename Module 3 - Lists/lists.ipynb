{
 "cells": [
  {
   "cell_type": "code",
   "execution_count": 8,
   "metadata": {},
   "outputs": [
    {
     "name": "stdout",
     "output_type": "stream",
     "text": [
      "[1, 2, 3, 4, 5, 1]\n"
     ]
    }
   ],
   "source": [
    "# Initialize\n",
    "my_list = []\n",
    "my_list = [1,2,3,4,5,1] # O(n)\n",
    "print(my_list)"
   ]
  },
  {
   "cell_type": "code",
   "execution_count": 9,
   "metadata": {},
   "outputs": [
    {
     "name": "stdout",
     "output_type": "stream",
     "text": [
      "2\n",
      "4\n",
      "True\n"
     ]
    }
   ],
   "source": [
    "# Search\n",
    "my_list = [1,2,3,4,5,1]\n",
    "print(my_list.count(1)) # O(n)\n",
    "print(my_list.index(5)) # O(n)\n",
    "target = 1\n",
    "print(target in my_list) # O(n)"
   ]
  },
  {
   "cell_type": "code",
   "execution_count": 15,
   "metadata": {},
   "outputs": [
    {
     "data": {
      "text/plain": [
       "10"
      ]
     },
     "execution_count": 15,
     "metadata": {},
     "output_type": "execute_result"
    }
   ],
   "source": [
    "def linear_search(p_list, p_target):\n",
    "    for i, value in enumerate(p_list): # O(n)\n",
    "        if value == p_target:\n",
    "            return i\n",
    "    return -1\n",
    "\n",
    "linear_search([0,1,2,3,4,5,6,7,8,9,22],22)"
   ]
  },
  {
   "cell_type": "code",
   "execution_count": 16,
   "metadata": {},
   "outputs": [
    {
     "name": "stdout",
     "output_type": "stream",
     "text": [
      "[0, 1, 2, 3, 4, 5, 6, 7, 8, [6, 7, 8]]\n",
      "[0, 1, 2, 3, 4, 5, 6, 7, 8, [6, 7, 8], 2, 3, 4, 6]\n",
      "[0, 1, 2, 3, 4, 5, 6, 7, 8, [6, 7, 8], 0, 1, 2, 3, 4, 5, 6, 7, 8, [6, 7, 8]]\n"
     ]
    }
   ],
   "source": [
    "# Adding\n",
    "my_list = [1,2,3,4,5]\n",
    "my_list.extend([6, 7, 8])    # O(n)\n",
    "my_list.append([6, 7, 8])    # O(1)\n",
    "my_list.insert(0, 0)         # O(n) (position, number)\n",
    "added_list = my_list + [2, 3, 4, 6]\n",
    "multiplied_list = my_list * 2\n",
    "print(my_list)\n",
    "print(added_list)\n",
    "print(multiplied_list)"
   ]
  },
  {
   "cell_type": "code",
   "execution_count": 11,
   "metadata": {},
   "outputs": [
    {
     "name": "stdout",
     "output_type": "stream",
     "text": [
      "['b', 'd', 'e', 'f']\n"
     ]
    }
   ],
   "source": [
    "# Removing\n",
    "my_list = [\"a\",\"b\",\"c\",\"d\",\"e\",\"f\"]\n",
    "my_list.pop(2)     # O(n) index\n",
    "my_list.remove(\"a\")  # O(n^2) first occurrence of ---CHECK big O\n",
    "print(my_list)\n"
   ]
  },
  {
   "cell_type": "code",
   "execution_count": 12,
   "metadata": {},
   "outputs": [
    {
     "name": "stdout",
     "output_type": "stream",
     "text": [
      "[5, 4, 1, 2, 1]\n"
     ]
    }
   ],
   "source": [
    "# Changing\n",
    "my_list = [1,2,3,4,5]\n",
    "my_list.reverse()  # O(n^2)  ---CHECK big O\n",
    "my_list[2] = 1     # O(1) \n",
    "print(my_list)\n"
   ]
  },
  {
   "cell_type": "code",
   "execution_count": 13,
   "metadata": {},
   "outputs": [
    {
     "name": "stdout",
     "output_type": "stream",
     "text": [
      "1\n",
      "2\n",
      "3\n",
      "4\n",
      "5\n"
     ]
    }
   ],
   "source": [
    "# Traversal\n",
    "my_list =[1,2,3,4,5]\n",
    "for i in my_list:   # O(n)\n",
    "    print(i)"
   ]
  }
 ],
 "metadata": {
  "kernelspec": {
   "display_name": "Python 3",
   "language": "python",
   "name": "python3"
  },
  "language_info": {
   "codemirror_mode": {
    "name": "ipython",
    "version": 3
   },
   "file_extension": ".py",
   "mimetype": "text/x-python",
   "name": "python",
   "nbconvert_exporter": "python",
   "pygments_lexer": "ipython3",
   "version": "3.11.3"
  },
  "orig_nbformat": 4
 },
 "nbformat": 4,
 "nbformat_minor": 2
}
