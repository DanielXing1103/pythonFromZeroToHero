{
 "cells": [
  {
   "cell_type": "code",
   "execution_count": 41,
   "metadata": {},
   "outputs": [
    {
     "name": "stdout",
     "output_type": "stream",
     "text": [
      "array('i', [1, 2, 3, 4, 5, 1])\n"
     ]
    }
   ],
   "source": [
    "# Initialize\n",
    "my_array = []\n",
    "my_array = [1,2,3,4,5,1] # O(n)\n",
    "print(my_array)"
   ]
  },
  {
   "cell_type": "code",
   "execution_count": 32,
   "metadata": {},
   "outputs": [
    {
     "name": "stdout",
     "output_type": "stream",
     "text": [
      "2\n",
      "4\n"
     ]
    }
   ],
   "source": [
    "# Returning val\n",
    "my_array = [1,2,3,4,5,1]\n",
    "print(my_array.count(1)) # O(n)\n",
    "print(my_array.index(5)) # O(n)"
   ]
  },
  {
   "cell_type": "code",
   "execution_count": 37,
   "metadata": {},
   "outputs": [
    {
     "name": "stdout",
     "output_type": "stream",
     "text": [
      "array('i', [0, 1, 2, 3, 4, 5, 6, 7, 8])\n"
     ]
    }
   ],
   "source": [
    "# Adding\n",
    "my_array = [1,2,3,4,5]\n",
    "my_array.extend([6, 7, 8])    # O(n)\n",
    "my_array.append([6, 7, 8])    # O(1)\n",
    "my_array.insert(0, 0)         # O(n) (position, number)\n",
    "print(my_array)"
   ]
  },
  {
   "cell_type": "code",
   "execution_count": 39,
   "metadata": {},
   "outputs": [],
   "source": [
    "# Removing\n",
    "my_array = [1,2,3,4,5]\n",
    "my_array.pop(2)     # O(n) index\n",
    "my_array.remove(3)  # O(n^2) first occurrence of ---CHECK big O\n",
    "print(my_array)\n"
   ]
  },
  {
   "cell_type": "code",
   "execution_count": 40,
   "metadata": {},
   "outputs": [
    {
     "name": "stdout",
     "output_type": "stream",
     "text": [
      "array('i', [5, 4, 1, 2, 1])\n"
     ]
    }
   ],
   "source": [
    "# Changing\n",
    "my_array = [1,2,3,4,5]\n",
    "my_array.reverse()  # O(n^2)  ---CHECK big O\n",
    "my_array[2] = 1     # O(1) \n",
    "print(my_array)\n"
   ]
  },
  {
   "cell_type": "code",
   "execution_count": 42,
   "metadata": {},
   "outputs": [
    {
     "name": "stdout",
     "output_type": "stream",
     "text": [
      "1\n",
      "2\n",
      "3\n",
      "4\n",
      "5\n"
     ]
    }
   ],
   "source": [
    "# Traversal\n",
    "my_array =[1,2,3,4,5]\n",
    "for i in my_array:   # O(n)\n",
    "    print(i)"
   ]
  }
 ],
 "metadata": {
  "kernelspec": {
   "display_name": "Python 3",
   "language": "python",
   "name": "python3"
  },
  "language_info": {
   "codemirror_mode": {
    "name": "ipython",
    "version": 3
   },
   "file_extension": ".py",
   "mimetype": "text/x-python",
   "name": "python",
   "nbconvert_exporter": "python",
   "pygments_lexer": "ipython3",
   "version": "3.11.3"
  },
  "orig_nbformat": 4
 },
 "nbformat": 4,
 "nbformat_minor": 2
}
