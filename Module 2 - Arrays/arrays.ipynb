{
 "cells": [
  {
   "attachments": {},
   "cell_type": "markdown",
   "metadata": {},
   "source": [
    "| Type code | C Type             | Python Type       | Minimum size in bytes |\n",
    "|-----------|--------------------|-------------------|-----------------------|\n",
    "| 'b'       | signed char        | int               | 1                     |\n",
    "| 'B'       | unsigned char      | int               | 1                     |\n",
    "| 'u'       | wchar_t            | Unicode character | 2                     |\n",
    "| 'h'       | signed short       | int               | 2                     |\n",
    "| 'H'       | unsigned short     | int               | 2                     |\n",
    "| 'i'       | signed int         | int               | 2                     |\n",
    "| 'I'       | unsigned int       | int               | 2                     |\n",
    "| 'l'       | signed long        | int               | 4                     |\n",
    "| 'L'       | unsigned long      | int               | 4                     |\n",
    "| 'q'       | signed long long   | int               | 8                     |\n",
    "| 'Q'       | unsigned long long | int               | 8                     |\n",
    "| 'f'       | float              | float             | 4                     |\n",
    "| 'd'       | double             | float             | 8                     |"
   ]
  },
  {
   "cell_type": "code",
   "execution_count": 41,
   "metadata": {},
   "outputs": [
    {
     "name": "stdout",
     "output_type": "stream",
     "text": [
      "array('i', [1, 2, 3, 4, 5, 1])\n"
     ]
    }
   ],
   "source": [
    "# Initializer\n",
    "import array\n",
    "my_array = array.array('i') # O(1)\n",
    "my_array = array.array('i',[1,2,3,4,5,1]) # O(n)\n",
    "print(my_array)"
   ]
  },
  {
   "cell_type": "code",
   "execution_count": 32,
   "metadata": {},
   "outputs": [
    {
     "name": "stdout",
     "output_type": "stream",
     "text": [
      "2\n",
      "4\n"
     ]
    }
   ],
   "source": [
    "# Returning val\n",
    "my_array = array.array('i',[1,2,3,4,5,1])\n",
    "print(my_array.count(1)) # O(n)\n",
    "print(my_array.index(5)) # O(n)"
   ]
  },
  {
   "cell_type": "code",
   "execution_count": 37,
   "metadata": {},
   "outputs": [
    {
     "name": "stdout",
     "output_type": "stream",
     "text": [
      "array('i', [0, 1, 2, 3, 4, 5, 6, 7, 8])\n"
     ]
    }
   ],
   "source": [
    "# Adding\n",
    "my_array = array.array('i',[1,2,3,4,5])\n",
    "my_array.extend([6, 7, 8])    # O(n)\n",
    "my_array.insert(0, 0)         # O(1) (position, number)\n",
    "print(my_array)"
   ]
  },
  {
   "cell_type": "code",
   "execution_count": 38,
   "metadata": {},
   "outputs": [
    {
     "name": "stdout",
     "output_type": "stream",
     "text": [
      "array('i', [0, 1, 2, 3, 4])\n"
     ]
    }
   ],
   "source": [
    "# Adding\n",
    "my_list = [1,2,3,4]\n",
    "my_array = array.array('i',[0])\n",
    "my_array.fromlist(my_list) # O(n)\n",
    "print(my_array)\n"
   ]
  },
  {
   "cell_type": "code",
   "execution_count": 39,
   "metadata": {},
   "outputs": [],
   "source": [
    "# Removing\n",
    "my_array = array.array('i',[1,2,3,4,5])\n",
    "my_array.pop(2)     # O(n) index\n",
    "my_array.remove(3)  # O(n^2) first occurrence of ---CHECK big O\n",
    "print(my_array)\n"
   ]
  },
  {
   "cell_type": "code",
   "execution_count": 40,
   "metadata": {},
   "outputs": [
    {
     "name": "stdout",
     "output_type": "stream",
     "text": [
      "array('i', [5, 4, 1, 2, 1])\n"
     ]
    }
   ],
   "source": [
    "# Changing\n",
    "my_array = array.array('i',[1,2,3,4,5])\n",
    "my_array.reverse()  # O(n^2)  ---CHECK big O\n",
    "my_array[2] = 1     # O(1) \n",
    "print(my_array)\n"
   ]
  },
  {
   "cell_type": "code",
   "execution_count": 42,
   "metadata": {},
   "outputs": [
    {
     "name": "stdout",
     "output_type": "stream",
     "text": [
      "1\n",
      "2\n",
      "3\n",
      "4\n",
      "5\n"
     ]
    }
   ],
   "source": [
    "# Traversal\n",
    "my_array = array.array('i',[1,2,3,4,5])\n",
    "for i in my_array:   # O(n)\n",
    "    print(i)"
   ]
  }
 ],
 "metadata": {
  "kernelspec": {
   "display_name": "Python 3",
   "language": "python",
   "name": "python3"
  },
  "language_info": {
   "codemirror_mode": {
    "name": "ipython",
    "version": 3
   },
   "file_extension": ".py",
   "mimetype": "text/x-python",
   "name": "python",
   "nbconvert_exporter": "python",
   "pygments_lexer": "ipython3",
   "version": "3.11.3"
  },
  "orig_nbformat": 4
 },
 "nbformat": 4,
 "nbformat_minor": 2
}
